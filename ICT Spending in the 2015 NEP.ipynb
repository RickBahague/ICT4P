{
 "metadata": {
  "name": "",
  "signature": "sha256:5b8fd904955bdcac6c2da53f8d869199a6e2be15eca3cf1a2811216afccfd695"
 },
 "nbformat": 3,
 "nbformat_minor": 0,
 "worksheets": [
  {
   "cells": [
    {
     "cell_type": "markdown",
     "metadata": {},
     "source": [
      "This is the accompanying notebook for all data used in the ROOT ACCESS column on bulatlat.com\n",
      "You can modify this to analyze other part of the NEP 2015. \n",
      "This notebook is focused on the ICT component. \n",
      "\n",
      "Author: Rick Bahague / rick (at) opensourceshoppe (dot) com. \n",
      "\n",
      "Download datasets from the DBM website. "
     ]
    },
    {
     "cell_type": "code",
     "collapsed": false,
     "input": [
      "%matplotlib inline\n",
      "#%pylab inline\n",
      "import pandas as pd\n",
      "import matplotlib.pyplot as plt\n",
      "import mpld3\n",
      "import matplotlib.pylab as pylab\n",
      "import numpy as np\n",
      "from pylab import *\n",
      "\n",
      "pylab.rcParams['figure.figsize'] = 12, 6\n",
      "pd.set_option('display.max_rows',500)\n",
      "\n",
      "mpld3.enable_notebook()\n",
      "DATA_PATH = \"../data/\"\n",
      "\n",
      "#durl = 'http://datasets.flowingdata.com/crimeRatesByState2005.csv'\n",
      "#rdata = genfromtxt(durl,dtype='S8,f,f,f,f,f,f,f,i',delimiter=',')"
     ],
     "language": "python",
     "metadata": {},
     "outputs": [],
     "prompt_number": 631
    },
    {
     "cell_type": "heading",
     "level": 3,
     "metadata": {},
     "source": [
      "Load Data for Automatic Appropriation & Proposed Appropriation"
     ]
    },
    {
     "cell_type": "code",
     "collapsed": false,
     "input": [
      "#Data taken from DBM Site\n",
      "auto_approp = pd.read_csv(DATA_PATH + \"2015 NEP-Proposed-Automatic.csv\")\n",
      "auto_approp.fillna(value=0,inplace=True)\n",
      "new_approp = pd.read_csv(DATA_PATH + \"2015 NEP-Proposed.csv\")\n",
      "new_approp.fillna(value=0,inplace=True)\n",
      "\n",
      "#rename columns for clarity\n",
      "new_approp.columns = [u'uacs_dpt_id', u'Department', u'uacs_agy_id', u'Agency', \n",
      "         u'uacs_fpap_id', u'Description', u'operdiv', u'operunit', u'uacs_oper_dsc', u'fndsrc', \n",
      "         u'uacs_fundsubcat_dsc', u'uacs_exp_cd', u'Category', u'uacs_sobj_cd', \n",
      "         u'Objective', u'Amount']\n",
      "auto_approp.columns = [u'uacs_dpt_id', u'Department', u'uacs_agy_id', u'Agency', \n",
      "         u'uacs_fpap_id', u'Description', u'operdiv', u'operunit', u'uacs_oper_dsc', u'fndsrc', \n",
      "         u'uacs_fundsubcat_dsc', u'uacs_exp_cd', u'Category', u'uacs_sobj_cd', \n",
      "         u'Objective', u'Amount']\n",
      "\n",
      "#select data for analysis\n",
      "auto_approp_data = auto_approp[auto_approp.Amount>0][['Department','Agency','Description','Category','Objective','Amount']]\n",
      "auto_approp_data['NEP'] = 'AUTO'\n",
      "new_approp_data = new_approp[new_approp.Amount>0][['Department','Agency','Description','Category','Objective','Amount']]\n",
      "new_approp_data['NEP'] = 'NEW'\n",
      "all_data = auto_approp_data.append(new_approp_data)\n",
      "all_data[ [u'NEP',u'Department', u'Agency', u'Description', u'Category', u'Objective', u'Amount']].to_csv('data.csv')\n",
      "#all_data.head()"
     ],
     "language": "python",
     "metadata": {},
     "outputs": [],
     "prompt_number": 632
    },
    {
     "cell_type": "heading",
     "level": 3,
     "metadata": {},
     "source": [
      "Total New and Automatic Appropriation"
     ]
    },
    {
     "cell_type": "code",
     "collapsed": false,
     "input": [
      "all_data['Amount'].sum()"
     ],
     "language": "python",
     "metadata": {},
     "outputs": [
      {
       "metadata": {},
       "output_type": "pyout",
       "prompt_number": 633,
       "text": [
        "2606000000.0"
       ]
      }
     ],
     "prompt_number": 633
    },
    {
     "cell_type": "markdown",
     "metadata": {},
     "source": [
      "Sa kabuuan, mas malaki ng Php 341.7B ang gagastusin ng Administrasyon sa susunod na taon kung ihahambing sa budget ngayong taon."
     ]
    },
    {
     "cell_type": "heading",
     "level": 3,
     "metadata": {},
     "source": [
      "Expense by class"
     ]
    },
    {
     "cell_type": "markdown",
     "metadata": {},
     "source": [
      "Data from downloaded CSV file do not match data presented in Congress. In the Congress hearing, DBM reported a lesser amount for Capital outlays. Actual Data shows the discrepancy is more than Php 2B. Actual data shows that P2B is taken from Financial Expense and MOOE and added to Capital Outlay. "
     ]
    },
    {
     "cell_type": "code",
     "collapsed": false,
     "input": [
      "expense_class = all_data[['Category','Amount']].groupby(['Category']).sum()\n",
      "expense_class.sort(columns='Amount',ascending=False,inplace=True)\n",
      "#expense_class"
     ],
     "language": "python",
     "metadata": {},
     "outputs": [],
     "prompt_number": 634
    },
    {
     "cell_type": "code",
     "collapsed": false,
     "input": [
      "dbm_presentation_expense = [374582000,937593000,532080000,761745000]\n",
      "\n",
      "dbm_presentation_class = pd.DataFrame(dbm_presentation_expense)\n",
      "dbm_presentation_class.index=['Financial Expenses','Maintenance and Other Operating Expenses',\n",
      "                              'Capital Outlays','Personnel Services']\n",
      "dbm_presentation_class.columns=['Amount']\n",
      "dbm_presentation_class.sort_index()\n",
      "check=dbm_presentation_class.join(expense_class,lsuffix='_DBM',how='left')\n",
      "#check"
     ],
     "language": "python",
     "metadata": {},
     "outputs": [],
     "prompt_number": 635
    },
    {
     "cell_type": "code",
     "collapsed": false,
     "input": [
      "#expense_class.sub(dbm_presentation_class)"
     ],
     "language": "python",
     "metadata": {},
     "outputs": [],
     "prompt_number": 636
    },
    {
     "cell_type": "code",
     "collapsed": false,
     "input": [
      "check.sum()"
     ],
     "language": "python",
     "metadata": {},
     "outputs": [
      {
       "metadata": {},
       "output_type": "pyout",
       "prompt_number": 637,
       "text": [
        "Amount_DBM    2606000000\n",
        "Amount        2606000000\n",
        "dtype: float64"
       ]
      }
     ],
     "prompt_number": 637
    },
    {
     "cell_type": "heading",
     "level": 3,
     "metadata": {},
     "source": [
      "Spending per Department"
     ]
    },
    {
     "cell_type": "code",
     "collapsed": false,
     "input": [
      "departments = all_data[['Department','Amount']].groupby(['Department']).sum()\n",
      "departments.sort(axis=0,columns='Amount',inplace=True,ascending=False)\n",
      "t = departments['Amount'].sum()\n",
      "departments['% Share'] = departments['Amount']/t* 100\n",
      "departments"
     ],
     "language": "python",
     "metadata": {},
     "outputs": [
      {
       "html": [
        "<div style=\"max-height:1000px;max-width:1500px;overflow:auto;\">\n",
        "<table border=\"1\" class=\"dataframe\">\n",
        "  <thead>\n",
        "    <tr style=\"text-align: right;\">\n",
        "      <th></th>\n",
        "      <th>Amount</th>\n",
        "      <th>% Share</th>\n",
        "    </tr>\n",
        "    <tr>\n",
        "      <th>Department</th>\n",
        "      <th></th>\n",
        "      <th></th>\n",
        "    </tr>\n",
        "  </thead>\n",
        "  <tbody>\n",
        "    <tr>\n",
        "      <th>Internal Revenue Allotment</th>\n",
        "      <td> 389860429</td>\n",
        "      <td> 14.960109</td>\n",
        "    </tr>\n",
        "    <tr>\n",
        "      <th>Debt Interest Payments</th>\n",
        "      <td> 372863000</td>\n",
        "      <td> 14.307866</td>\n",
        "    </tr>\n",
        "    <tr>\n",
        "      <th>Department of Education (DepEd)</th>\n",
        "      <td> 339288006</td>\n",
        "      <td> 13.019494</td>\n",
        "    </tr>\n",
        "    <tr>\n",
        "      <th>Department of Public Works and Highways (DPWH)</th>\n",
        "      <td> 300519120</td>\n",
        "      <td> 11.531816</td>\n",
        "    </tr>\n",
        "    <tr>\n",
        "      <th>Pension and Gratuity Fund</th>\n",
        "      <td> 140566386</td>\n",
        "      <td>  5.393952</td>\n",
        "    </tr>\n",
        "    <tr>\n",
        "      <th>Miscellaneous Personnel Benefits Fund</th>\n",
        "      <td> 118142443</td>\n",
        "      <td>  4.533478</td>\n",
        "    </tr>\n",
        "    <tr>\n",
        "      <th>Department of Social Welfare and Development (DSWD)</th>\n",
        "      <td> 108969695</td>\n",
        "      <td>  4.181493</td>\n",
        "    </tr>\n",
        "    <tr>\n",
        "      <th>Department of the Interior and Local Government (DILG)</th>\n",
        "      <td> 105734749</td>\n",
        "      <td>  4.057358</td>\n",
        "    </tr>\n",
        "    <tr>\n",
        "      <th>Department of National Defense (DND)</th>\n",
        "      <td>  99639336</td>\n",
        "      <td>  3.823459</td>\n",
        "    </tr>\n",
        "    <tr>\n",
        "      <th>Department of Health (DOH)</th>\n",
        "      <td>  88020862</td>\n",
        "      <td>  3.377623</td>\n",
        "    </tr>\n",
        "    <tr>\n",
        "      <th>Budgetary Support to Government Corporations</th>\n",
        "      <td>  62635338</td>\n",
        "      <td>  2.403505</td>\n",
        "    </tr>\n",
        "    <tr>\n",
        "      <th>Department of Transportation and Communications (DOTC)</th>\n",
        "      <td>  54537699</td>\n",
        "      <td>  2.092774</td>\n",
        "    </tr>\n",
        "    <tr>\n",
        "      <th>Department of Agriculture (DA)</th>\n",
        "      <td>  49061490</td>\n",
        "      <td>  1.882636</td>\n",
        "    </tr>\n",
        "    <tr>\n",
        "      <th>State Universities and Colleges (SUCs)</th>\n",
        "      <td>  43342336</td>\n",
        "      <td>  1.663175</td>\n",
        "    </tr>\n",
        "    <tr>\n",
        "      <th>Special Shares of LGUs in the Proceeds of National Taxes</th>\n",
        "      <td>  27904053</td>\n",
        "      <td>  1.070762</td>\n",
        "    </tr>\n",
        "    <tr>\n",
        "      <th>Net Lending</th>\n",
        "      <td>  26500000</td>\n",
        "      <td>  1.016884</td>\n",
        "    </tr>\n",
        "    <tr>\n",
        "      <th>Customs duties and taxes, including tax expenditures</th>\n",
        "      <td>  25475000</td>\n",
        "      <td>  0.977552</td>\n",
        "    </tr>\n",
        "    <tr>\n",
        "      <th>Autonomous Region in Muslim Mindanao (ARMM)</th>\n",
        "      <td>  25229264</td>\n",
        "      <td>  0.968122</td>\n",
        "    </tr>\n",
        "    <tr>\n",
        "      <th>Department of Environment and Natural Resources (DENR)</th>\n",
        "      <td>  21274446</td>\n",
        "      <td>  0.816364</td>\n",
        "    </tr>\n",
        "    <tr>\n",
        "      <th>The Judiciary </th>\n",
        "      <td>  19499422</td>\n",
        "      <td>  0.748251</td>\n",
        "    </tr>\n",
        "    <tr>\n",
        "      <th>Department of Science and Technology (DOST)</th>\n",
        "      <td>  19351916</td>\n",
        "      <td>  0.742591</td>\n",
        "    </tr>\n",
        "    <tr>\n",
        "      <th>Commission on Elections (COMELEC)</th>\n",
        "      <td>  16944100</td>\n",
        "      <td>  0.650196</td>\n",
        "    </tr>\n",
        "    <tr>\n",
        "      <th>Department of Finance (DOF)</th>\n",
        "      <td>  14346441</td>\n",
        "      <td>  0.550516</td>\n",
        "    </tr>\n",
        "    <tr>\n",
        "      <th>National Disaster Risk Reduction and Management Fund ( Calamity Fund )</th>\n",
        "      <td>  14000000</td>\n",
        "      <td>  0.537222</td>\n",
        "    </tr>\n",
        "    <tr>\n",
        "      <th>Department of Foreign Affairs (DFA)</th>\n",
        "      <td>  12969177</td>\n",
        "      <td>  0.497666</td>\n",
        "    </tr>\n",
        "    <tr>\n",
        "      <th>Other Executive Offices</th>\n",
        "      <td>  12722911</td>\n",
        "      <td>  0.488216</td>\n",
        "    </tr>\n",
        "    <tr>\n",
        "      <th>Department of Labor and Employment (DOLE)</th>\n",
        "      <td>  12093761</td>\n",
        "      <td>  0.464074</td>\n",
        "    </tr>\n",
        "    <tr>\n",
        "      <th>Department of Justice (DOJ)</th>\n",
        "      <td>  11818194</td>\n",
        "      <td>  0.453499</td>\n",
        "    </tr>\n",
        "    <tr>\n",
        "      <th>Congress of the Philippines</th>\n",
        "      <td>  11090677</td>\n",
        "      <td>  0.425582</td>\n",
        "    </tr>\n",
        "    <tr>\n",
        "      <th>Department of Agrarian Reform (DAR)</th>\n",
        "      <td>  10586174</td>\n",
        "      <td>  0.406223</td>\n",
        "    </tr>\n",
        "    <tr>\n",
        "      <th>Commission on Audit (COA)</th>\n",
        "      <td>   8162753</td>\n",
        "      <td>  0.313229</td>\n",
        "    </tr>\n",
        "    <tr>\n",
        "      <th>International Commitments Fund</th>\n",
        "      <td>   7443963</td>\n",
        "      <td>  0.285647</td>\n",
        "    </tr>\n",
        "    <tr>\n",
        "      <th>National Economic and Development Authority (NEDA)</th>\n",
        "      <td>   6409563</td>\n",
        "      <td>  0.245954</td>\n",
        "    </tr>\n",
        "    <tr>\n",
        "      <th>Department of Energy (DOE)</th>\n",
        "      <td>   4462932</td>\n",
        "      <td>  0.171256</td>\n",
        "    </tr>\n",
        "    <tr>\n",
        "      <th>Department of Trade and Industry (DTI)</th>\n",
        "      <td>   3750260</td>\n",
        "      <td>  0.143909</td>\n",
        "    </tr>\n",
        "    <tr>\n",
        "      <th>Local Government Support Fund</th>\n",
        "      <td>   2989062</td>\n",
        "      <td>  0.114699</td>\n",
        "    </tr>\n",
        "    <tr>\n",
        "      <th>Office of the President (OP)</th>\n",
        "      <td>   2602457</td>\n",
        "      <td>  0.099864</td>\n",
        "    </tr>\n",
        "    <tr>\n",
        "      <th>Department of Tourism (DOT)</th>\n",
        "      <td>   2181924</td>\n",
        "      <td>  0.083727</td>\n",
        "    </tr>\n",
        "    <tr>\n",
        "      <th>Contingent Fund</th>\n",
        "      <td>   2000000</td>\n",
        "      <td>  0.076746</td>\n",
        "    </tr>\n",
        "    <tr>\n",
        "      <th>Allocations to Local Government Units</th>\n",
        "      <td>   1990362</td>\n",
        "      <td>  0.076376</td>\n",
        "    </tr>\n",
        "    <tr>\n",
        "      <th>Office of the Ombudsman</th>\n",
        "      <td>   1731504</td>\n",
        "      <td>  0.066443</td>\n",
        "    </tr>\n",
        "    <tr>\n",
        "      <th>Department of Budget and Management (DBM)</th>\n",
        "      <td>   1455942</td>\n",
        "      <td>  0.055869</td>\n",
        "    </tr>\n",
        "    <tr>\n",
        "      <th>Civil Service Commission (CSC)</th>\n",
        "      <td>   1175924</td>\n",
        "      <td>  0.045124</td>\n",
        "    </tr>\n",
        "    <tr>\n",
        "      <th>Presidential Communications Operations Office (PCOO)</th>\n",
        "      <td>   1021972</td>\n",
        "      <td>  0.039216</td>\n",
        "    </tr>\n",
        "    <tr>\n",
        "      <th>Rehabilitation and Reconstruction Program</th>\n",
        "      <td>   1000000</td>\n",
        "      <td>  0.038373</td>\n",
        "    </tr>\n",
        "    <tr>\n",
        "      <th>E-Government Fund</th>\n",
        "      <td>   1000000</td>\n",
        "      <td>  0.038373</td>\n",
        "    </tr>\n",
        "    <tr>\n",
        "      <th>The Judiciary</th>\n",
        "      <td>    785487</td>\n",
        "      <td>  0.030141</td>\n",
        "    </tr>\n",
        "    <tr>\n",
        "      <th>Commission on Human Rights (CHR)</th>\n",
        "      <td>    341450</td>\n",
        "      <td>  0.013102</td>\n",
        "    </tr>\n",
        "    <tr>\n",
        "      <th>Office of the Vice-President (OVP)</th>\n",
        "      <td>    226517</td>\n",
        "      <td>  0.008692</td>\n",
        "    </tr>\n",
        "    <tr>\n",
        "      <th>Special Shares of LGUs in the Proceeds of Fire Code Fees</th>\n",
        "      <td>    200000</td>\n",
        "      <td>  0.007675</td>\n",
        "    </tr>\n",
        "    <tr>\n",
        "      <th>Barangay Officials Death Benefits Fund</th>\n",
        "      <td>     50000</td>\n",
        "      <td>  0.001919</td>\n",
        "    </tr>\n",
        "    <tr>\n",
        "      <th>BSGC - Others</th>\n",
        "      <td>     28606</td>\n",
        "      <td>  0.001098</td>\n",
        "    </tr>\n",
        "    <tr>\n",
        "      <th>Joint Legislative-Executive Councils</th>\n",
        "      <td>      2897</td>\n",
        "      <td>  0.000111</td>\n",
        "    </tr>\n",
        "  </tbody>\n",
        "</table>\n",
        "</div>"
       ],
       "metadata": {},
       "output_type": "pyout",
       "prompt_number": 638,
       "text": [
        "                                                                           Amount  \\\n",
        "Department                                                                          \n",
        "Internal Revenue Allotment                                              389860429   \n",
        "Debt Interest Payments                                                  372863000   \n",
        "Department of Education (DepEd)                                         339288006   \n",
        "Department of Public Works and Highways (DPWH)                          300519120   \n",
        "Pension and Gratuity Fund                                               140566386   \n",
        "Miscellaneous Personnel Benefits Fund                                   118142443   \n",
        "Department of Social Welfare and Development (DSWD)                     108969695   \n",
        "Department of the Interior and Local Government (DILG)                  105734749   \n",
        "Department of National Defense (DND)                                     99639336   \n",
        "Department of Health (DOH)                                               88020862   \n",
        "Budgetary Support to Government Corporations                             62635338   \n",
        "Department of Transportation and Communications (DOTC)                   54537699   \n",
        "Department of Agriculture (DA)                                           49061490   \n",
        "State Universities and Colleges (SUCs)                                   43342336   \n",
        "Special Shares of LGUs in the Proceeds of National Taxes                 27904053   \n",
        "Net Lending                                                              26500000   \n",
        "Customs duties and taxes, including tax expenditures                     25475000   \n",
        "Autonomous Region in Muslim Mindanao (ARMM)                              25229264   \n",
        "Department of Environment and Natural Resources (DENR)                   21274446   \n",
        "The Judiciary                                                            19499422   \n",
        "Department of Science and Technology (DOST)                              19351916   \n",
        "Commission on Elections (COMELEC)                                        16944100   \n",
        "Department of Finance (DOF)                                              14346441   \n",
        "National Disaster Risk Reduction and Management Fund ( Calamity Fund )   14000000   \n",
        "Department of Foreign Affairs (DFA)                                      12969177   \n",
        "Other Executive Offices                                                  12722911   \n",
        "Department of Labor and Employment (DOLE)                                12093761   \n",
        "Department of Justice (DOJ)                                              11818194   \n",
        "Congress of the Philippines                                              11090677   \n",
        "Department of Agrarian Reform (DAR)                                      10586174   \n",
        "Commission on Audit (COA)                                                 8162753   \n",
        "International Commitments Fund                                            7443963   \n",
        "National Economic and Development Authority (NEDA)                        6409563   \n",
        "Department of Energy (DOE)                                                4462932   \n",
        "Department of Trade and Industry (DTI)                                    3750260   \n",
        "Local Government Support Fund                                             2989062   \n",
        "Office of the President (OP)                                              2602457   \n",
        "Department of Tourism (DOT)                                               2181924   \n",
        "Contingent Fund                                                           2000000   \n",
        "Allocations to Local Government Units                                     1990362   \n",
        "Office of the Ombudsman                                                   1731504   \n",
        "Department of Budget and Management (DBM)                                 1455942   \n",
        "Civil Service Commission (CSC)                                            1175924   \n",
        "Presidential Communications Operations Office (PCOO)                      1021972   \n",
        "Rehabilitation and Reconstruction Program                                 1000000   \n",
        "E-Government Fund                                                         1000000   \n",
        "The Judiciary                                                              785487   \n",
        "Commission on Human Rights (CHR)                                           341450   \n",
        "Office of the Vice-President (OVP)                                         226517   \n",
        "Special Shares of LGUs in the Proceeds of Fire Code Fees                   200000   \n",
        "Barangay Officials Death Benefits Fund                                      50000   \n",
        "BSGC - Others                                                               28606   \n",
        "Joint Legislative-Executive Councils                                         2897   \n",
        "\n",
        "                                                                          % Share  \n",
        "Department                                                                         \n",
        "Internal Revenue Allotment                                              14.960109  \n",
        "Debt Interest Payments                                                  14.307866  \n",
        "Department of Education (DepEd)                                         13.019494  \n",
        "Department of Public Works and Highways (DPWH)                          11.531816  \n",
        "Pension and Gratuity Fund                                                5.393952  \n",
        "Miscellaneous Personnel Benefits Fund                                    4.533478  \n",
        "Department of Social Welfare and Development (DSWD)                      4.181493  \n",
        "Department of the Interior and Local Government (DILG)                   4.057358  \n",
        "Department of National Defense (DND)                                     3.823459  \n",
        "Department of Health (DOH)                                               3.377623  \n",
        "Budgetary Support to Government Corporations                             2.403505  \n",
        "Department of Transportation and Communications (DOTC)                   2.092774  \n",
        "Department of Agriculture (DA)                                           1.882636  \n",
        "State Universities and Colleges (SUCs)                                   1.663175  \n",
        "Special Shares of LGUs in the Proceeds of National Taxes                 1.070762  \n",
        "Net Lending                                                              1.016884  \n",
        "Customs duties and taxes, including tax expenditures                     0.977552  \n",
        "Autonomous Region in Muslim Mindanao (ARMM)                              0.968122  \n",
        "Department of Environment and Natural Resources (DENR)                   0.816364  \n",
        "The Judiciary                                                            0.748251  \n",
        "Department of Science and Technology (DOST)                              0.742591  \n",
        "Commission on Elections (COMELEC)                                        0.650196  \n",
        "Department of Finance (DOF)                                              0.550516  \n",
        "National Disaster Risk Reduction and Management Fund ( Calamity Fund )   0.537222  \n",
        "Department of Foreign Affairs (DFA)                                      0.497666  \n",
        "Other Executive Offices                                                  0.488216  \n",
        "Department of Labor and Employment (DOLE)                                0.464074  \n",
        "Department of Justice (DOJ)                                              0.453499  \n",
        "Congress of the Philippines                                              0.425582  \n",
        "Department of Agrarian Reform (DAR)                                      0.406223  \n",
        "Commission on Audit (COA)                                                0.313229  \n",
        "International Commitments Fund                                           0.285647  \n",
        "National Economic and Development Authority (NEDA)                       0.245954  \n",
        "Department of Energy (DOE)                                               0.171256  \n",
        "Department of Trade and Industry (DTI)                                   0.143909  \n",
        "Local Government Support Fund                                            0.114699  \n",
        "Office of the President (OP)                                             0.099864  \n",
        "Department of Tourism (DOT)                                              0.083727  \n",
        "Contingent Fund                                                          0.076746  \n",
        "Allocations to Local Government Units                                    0.076376  \n",
        "Office of the Ombudsman                                                  0.066443  \n",
        "Department of Budget and Management (DBM)                                0.055869  \n",
        "Civil Service Commission (CSC)                                           0.045124  \n",
        "Presidential Communications Operations Office (PCOO)                     0.039216  \n",
        "Rehabilitation and Reconstruction Program                                0.038373  \n",
        "E-Government Fund                                                        0.038373  \n",
        "The Judiciary                                                            0.030141  \n",
        "Commission on Human Rights (CHR)                                         0.013102  \n",
        "Office of the Vice-President (OVP)                                       0.008692  \n",
        "Special Shares of LGUs in the Proceeds of Fire Code Fees                 0.007675  \n",
        "Barangay Officials Death Benefits Fund                                   0.001919  \n",
        "BSGC - Others                                                            0.001098  \n",
        "Joint Legislative-Executive Councils                                     0.000111  "
       ]
      }
     ]
    },
    {
     "cell_type": "markdown",
     "metadata": {},
     "source": [
      "Mahigit 53.8% ng badyet para sa 2015 ay nakalaan sa Internal Revenue Allotment (IRA), Debt Interest Payments, Department of Education (DepEd), at Department of Public Works and Highways (DPWH). Aabot naman sa P389 B ang pondong inilaan para sa mga Local Government Units (LGUs) sa pamamagitan ng IRA, P373 B naman ang awtomatikong inilaan sa pambayad utang ng bansa, P340B ang gagamitin upang suportahan ang mga programa sa edukasyon at P 300B ang inilaan para sa mga proyekto ng DPWH. "
     ]
    },
    {
     "cell_type": "heading",
     "level": 3,
     "metadata": {},
     "source": [
      "Spending per Objective"
     ]
    },
    {
     "cell_type": "code",
     "collapsed": false,
     "input": [
      "objectives = all_data[['Objective','Amount']].groupby(['Objective']).sum()\n",
      "objectives.sort(axis=0,columns='Amount',inplace=True,ascending=False)\n",
      "t = objectives['Amount'].sum()\n",
      "objectives['Share %'] = objectives['Amount']/t*100\n",
      "objectives"
     ],
     "language": "python",
     "metadata": {},
     "outputs": []
    },
    {
     "cell_type": "heading",
     "level": 3,
     "metadata": {},
     "source": [
      "ICT Budget Items Per Department"
     ]
    },
    {
     "cell_type": "markdown",
     "metadata": {},
     "source": [
      "The following lists budget items that can be categorized as ICT spending. Note that there are budget items that are actually almost the same but are treated separately and given separate budgets. Example: ICT Software and Computer Software, Information and Communication Technology Equipment and ICT Machinery and Equipment"
     ]
    },
    {
     "cell_type": "code",
     "collapsed": false,
     "input": [
      "ICT_items = [\n",
      "\"Information and Communication Technology Equipment\",\n",
      "\"Communication Equipment\",\n",
      "\"ICT Office Supplies\",\n",
      "\"ICT Software\",\n",
      "\"Cloud Computing Service\",\n",
      "\"ICT Training Expenses\",\n",
      "\"Rents - ICT Machinery and Equipment\",\n",
      "\"Internet Subscription Expenses\",\n",
      "\"ICT Consultancy Services\",\n",
      "\"Communication Networks\",\n",
      "\"Other General Services - ICT Services\",\n",
      "\"ICT Software Subscription\",\n",
      "\"Cable, Satellite, Telegraph and Radio Expenses\",\n",
      "\"ICT Machinery and Equipment\",\n",
      "\"Computer Software\",\n",
      "\"Website Maintenance\",\n",
      "\"ICT Generation, Transmission and Distribution Expenses\",\n",
      "\"ICT Research, Exploration and Development Expenses\"]"
     ],
     "language": "python",
     "metadata": {},
     "outputs": []
    },
    {
     "cell_type": "code",
     "collapsed": false,
     "input": [
      "search = 'Mobile|ICT|Software|Website|Database|Landline|Internet|Cloud|Information and Communication|Communication Equipment|Communication Network|Cable|MITHI|Internet|Computer'\n",
      "ict_budget_items=all_data[all_data.Objective.str.contains(search,na=0)]\n",
      "ict_item_department = ict_budget_items.groupby(['Department']).sum()\n",
      "#ict_item_objectives = ict_budget_items.groupby(['Category','Objective']).sum()\n",
      "ict_item_objectives = ict_budget_items.groupby(['Objective']).sum()\n",
      "ict_item_objectives.sort(columns='Amount',ascending=False,inplace=True)\n",
      "ict_item_department.sort(columns='Amount',ascending=False,inplace=True)\n",
      "ict_item_objectives['Share %'] = ict_item_objectives['Amount']/ict_item_objectives['Amount'].sum()*100\n",
      "ict_item_department['Share %'] = ict_item_department['Amount']/ict_item_department['Amount'].sum()*100\n",
      "\n",
      "#ict_budget_items.to_csv('ICT Budget Items.csv')\n",
      "#ict_item_department\n",
      "ict_item_objectives"
     ],
     "language": "python",
     "metadata": {},
     "outputs": []
    },
    {
     "cell_type": "heading",
     "level": 3,
     "metadata": {},
     "source": [
      "ICT-related Descriptions (ICT-related Projects)"
     ]
    },
    {
     "cell_type": "markdown",
     "metadata": {},
     "source": [
      "We also looked at programmed ICT projects in the NEP. This differ from above. Project implementation costs will include administrative costs and not only ICT services costs. "
     ]
    },
    {
     "cell_type": "code",
     "collapsed": false,
     "input": [
      "search_data = 'BalinkBayan Portal|Digitization|Software System|Information System|Data banking|Data Management|Knowledge Management|Information Management|Computerization|Information technology'\n",
      "ict_project_details = all_data[all_data.Description.str.contains(search_data,na=0)]\n",
      "a=ict_project_details[ict_project_details.NEP=='NEW'][['Department','Description','Amount']].groupby(['Department','Description']).sum()\n",
      "ict_projects = a.groupby(level=0).agg(['sum','count'])\n",
      "\n",
      "#ict_project_details.to_csv('ICT Project Details.csv')\n",
      "ict_descriptions = a.groupby(level=1).agg(['sum','count'])\n",
      "ict_descriptions.sort([('Amount','sum')],ascending=False,inplace=True)\n",
      "ict_descriptions"
     ],
     "language": "python",
     "metadata": {},
     "outputs": []
    },
    {
     "cell_type": "heading",
     "level": 3,
     "metadata": {},
     "source": [
      "Show Projects"
     ]
    },
    {
     "cell_type": "code",
     "collapsed": false,
     "input": [
      "ict_project_details.head()"
     ],
     "language": "python",
     "metadata": {},
     "outputs": []
    },
    {
     "cell_type": "heading",
     "level": 3,
     "metadata": {},
     "source": [
      "ICT Expenditure (Auto and New Proposed)"
     ]
    },
    {
     "cell_type": "code",
     "collapsed": false,
     "input": [
      "ict_budget = ict_projects.join(ict_item_department['Amount'],how='right')\n",
      "ict_budget.fillna(0,inplace=True)\n",
      "ict_budget.columns = ['Amount of New Project','Count of New Projects','Amount ICT Budget Items']\n",
      "ict_budget.sort(columns='Amount ICT Budget Items',ascending=False,inplace=True)\n",
      "\n",
      "#test_spending = ict_budget.join(departments,how='right')\n",
      "#test_spending.fillna(0)\n",
      "#percentage = test_spending['Amount ICT Budget Items']/test_spending['Amount']*100\n",
      "#percentage.fillna(0).sort(ascending=False,inplace=True)\n",
      "#percentage.sort(axis=0,ascending=False)\n",
      "#percentage\n",
      "ict_budget"
     ],
     "language": "python",
     "metadata": {},
     "outputs": []
    },
    {
     "cell_type": "markdown",
     "metadata": {},
     "source": [
      "The total ICT spending for NEP amounts to the following (in '000' PhP):"
     ]
    },
    {
     "cell_type": "code",
     "collapsed": false,
     "input": [
      "ict_budget.sum()"
     ],
     "language": "python",
     "metadata": {},
     "outputs": []
    },
    {
     "cell_type": "heading",
     "level": 3,
     "metadata": {},
     "source": [
      "Get Details of Interesting Projects"
     ]
    },
    {
     "cell_type": "code",
     "collapsed": false,
     "input": [
      "inc = ['Other Executive Offices','Department of Science and Technology (DOST)']\n",
      "department = 'Other Executive Offices'\n",
      "ict_project_details[ict_project_details.Department==department].groupby(['Agency','Description']).sum()"
     ],
     "language": "python",
     "metadata": {},
     "outputs": []
    },
    {
     "cell_type": "code",
     "collapsed": false,
     "input": [
      "descr = 'Information System Development and Maintenance'\n",
      "ict_project_details[ict_project_details.Description == descr]"
     ],
     "language": "python",
     "metadata": {},
     "outputs": []
    },
    {
     "cell_type": "code",
     "collapsed": false,
     "input": [
      "descr = 'Information System Development and Maintenance'\n",
      "descr = 'Information System'\n",
      "d=ict_project_details[ict_project_details.Description.str.contains(descr)]\n",
      "d.groupby(['Agency','Objective']).sum()\n",
      "#e=d.groupby(['Objective']).sum()\n",
      "#d.groupby(['Agency']).sum()\n",
      "#e.sort(columns='Amount',ascending=False)\n",
      "d['Amount'].sum()"
     ],
     "language": "python",
     "metadata": {},
     "outputs": []
    },
    {
     "cell_type": "heading",
     "level": 3,
     "metadata": {},
     "source": [
      "Telco will get at least the following amount from the government"
     ]
    },
    {
     "cell_type": "code",
     "collapsed": false,
     "input": [
      "ppp = [\n",
      "\"Internet Subscription Expenses\",\n",
      "\"Landline\",\"Mobile\",\"Cable, Satellite, Telegraph and Radio Expenses\"]\n",
      "\n",
      "c=all_data[all_data.Objective.isin(ppp)]\n",
      "#c['Amount'].sum()/ict_budget['Amount ICT Budget Items'].sum()*100\n",
      "c['Amount'].sum()"
     ],
     "language": "python",
     "metadata": {},
     "outputs": []
    },
    {
     "cell_type": "heading",
     "level": 3,
     "metadata": {},
     "source": [
      "Proprietary Software Expenses"
     ]
    },
    {
     "cell_type": "code",
     "collapsed": false,
     "input": [
      "proprietary = [\n",
      "    'ICT Software Subscription',\n",
      "    'ICT Software',\n",
      "    'Computer Software',\"Cloud Computing Service\",]\n",
      "\n",
      "proprietary_expenses = all_data[(all_data.Objective.isin(proprietary))]\n"
     ],
     "language": "python",
     "metadata": {},
     "outputs": []
    },
    {
     "cell_type": "code",
     "collapsed": false,
     "input": [
      "proprietary_expenses['Amount'].sum()/ict_budget['Amount ICT Budget Items'].sum()*100\n",
      "proprietary_expenses['Amount'].sum()"
     ],
     "language": "python",
     "metadata": {},
     "outputs": []
    },
    {
     "cell_type": "heading",
     "level": 3,
     "metadata": {},
     "source": [
      "To Outsource or In-house IT for new projects"
     ]
    },
    {
     "cell_type": "code",
     "collapsed": false,
     "input": [
      "benefits = [\n",
      "       'Basic Salary - Civilian',\n",
      "       'Retirement and Life Insurance Premiums','Bonus - Civilian',\n",
      "       'PERA - Civilian',\n",
      "       'Cash Gift - Civilian', 'Clothing/Uniform Allowance - Civilian',\n",
      "       'PhilHealth - Civilian',\n",
      "       'Productivity Incentive Allowance - Civilian',\n",
      "       'ECIP - Civilian','Pag-IBIG - Civilian',\n",
      "       'Honoraria - Civilian', \n",
      "       'Salaries and Wages - Casual/Contractual']\n",
      "\n",
      "personnel_benefits = ict_project_details[ict_project_details.Objective.isin(benefits)] \n",
      "\n",
      "outsourced = [\n",
      "       'Other General Services - ICT Services',\n",
      "       'Consultancy Services',\n",
      "       'ICT Consultancy Services',\n",
      "       'Cloud Computing Service','Website Maintenance']\n",
      "\n",
      "outsourced_expenses = ict_project_details[ict_project_details.Objective.isin(outsourced)] "
     ],
     "language": "python",
     "metadata": {},
     "outputs": []
    },
    {
     "cell_type": "code",
     "collapsed": false,
     "input": [
      "#personnel_benefits['Amount'].sum()/ict_budget['Amount of New Project'].sum()\n",
      "personnel_benefits['Amount'].sum()"
     ],
     "language": "python",
     "metadata": {},
     "outputs": []
    },
    {
     "cell_type": "code",
     "collapsed": false,
     "input": [
      "#outsourced_expenses['Amount'].sum()/ict_budget['Amount of New Project'].sum()\n",
      "outsourced_expenses['Amount'].sum()"
     ],
     "language": "python",
     "metadata": {},
     "outputs": []
    },
    {
     "cell_type": "heading",
     "level": 3,
     "metadata": {},
     "source": [
      "Website Maintenance"
     ]
    },
    {
     "cell_type": "code",
     "collapsed": false,
     "input": [
      "Web_Maintenance = all_data[all_data.Objective=='Website Maintenance']\n",
      "temp=Web_Maintenance[['Department','Agency','Amount']].groupby(['Department','Agency']).sum()\n",
      "temp.sort(columns='Amount',ascending=False,inplace=True)\n",
      "temp"
     ],
     "language": "python",
     "metadata": {},
     "outputs": []
    },
    {
     "cell_type": "heading",
     "level": 3,
     "metadata": {},
     "source": [
      "Rents - ICT Machinery and Equipment"
     ]
    },
    {
     "cell_type": "code",
     "collapsed": false,
     "input": [
      "#Description, Agency, Department, Category\n",
      "query_str = 'Rents - ICT Machinery and Equipment'\n",
      "temp = all_data[all_data.Objective==query_str].groupby(['Department','Agency','Description']).sum()\n",
      "temp.sort(columns='Amount',ascending=False,inplace=True)\n",
      "temp"
     ],
     "language": "python",
     "metadata": {},
     "outputs": []
    },
    {
     "cell_type": "heading",
     "level": 3,
     "metadata": {},
     "source": [
      "Percentage change of ICT spending "
     ]
    },
    {
     "cell_type": "code",
     "collapsed": false,
     "input": [
      "ict_budget_items['Amount'].sum()/all_data['Amount'].sum()*100\n",
      "ict_budget_items['Amount'].sum()"
     ],
     "language": "python",
     "metadata": {},
     "outputs": []
    },
    {
     "cell_type": "code",
     "collapsed": false,
     "input": [
      "(25165407-10493789)/10493789."
     ],
     "language": "python",
     "metadata": {},
     "outputs": []
    },
    {
     "cell_type": "code",
     "collapsed": false,
     "input": [
      "25165407000/11546000000000."
     ],
     "language": "python",
     "metadata": {},
     "outputs": []
    },
    {
     "cell_type": "heading",
     "level": 3,
     "metadata": {},
     "source": [
      "DPWH spending compared (2014 vs 2015)"
     ]
    },
    {
     "cell_type": "code",
     "collapsed": false,
     "input": [
      "300519120-219341196"
     ],
     "language": "python",
     "metadata": {},
     "outputs": []
    },
    {
     "cell_type": "heading",
     "level": 3,
     "metadata": {},
     "source": [
      "IRA spending compared (2014 vs 2015)"
     ]
    },
    {
     "cell_type": "code",
     "collapsed": false,
     "input": [
      "389860429-341544726 "
     ],
     "language": "python",
     "metadata": {},
     "outputs": []
    },
    {
     "cell_type": "heading",
     "level": 3,
     "metadata": {},
     "source": [
      "total budget"
     ]
    },
    {
     "cell_type": "code",
     "collapsed": false,
     "input": [
      "2606000000-2264628503"
     ],
     "language": "python",
     "metadata": {},
     "outputs": []
    },
    {
     "cell_type": "heading",
     "level": 3,
     "metadata": {},
     "source": [
      "Road Networks (2014 vs 2015)"
     ]
    },
    {
     "cell_type": "code",
     "collapsed": false,
     "input": [
      "242850463-180311094"
     ],
     "language": "python",
     "metadata": {},
     "outputs": []
    },
    {
     "cell_type": "heading",
     "level": 3,
     "metadata": {},
     "source": [
      "Loading 2014 Data, instead. This will overwrite the 2015 proposed budget."
     ]
    },
    {
     "cell_type": "code",
     "collapsed": false,
     "input": [
      "#Data taken from DBM Site\n",
      "auto_approp = pd.read_csv(DATA_PATH + \"2015 NEP-Adjusted-Automatic.csv\")\n",
      "auto_approp.fillna(value=0,inplace=True)\n",
      "new_approp = pd.read_csv(DATA_PATH + \"2015 NEP-Adjusted.csv\")\n",
      "new_approp.fillna(value=0,inplace=True)\n",
      "\n",
      "#rename columns for clarity\n",
      "new_approp.columns = [u'uacs_dpt_id', u'Department', u'uacs_agy_id', u'Agency', \n",
      "         u'uacs_fpap_id', u'Description', u'operdiv', u'operunit', u'uacs_oper_dsc', u'fndsrc', \n",
      "         u'uacs_fundsubcat_dsc', u'uacs_exp_cd', u'Category', u'uacs_sobj_cd', \n",
      "         u'Objective', u'Amount']\n",
      "auto_approp.columns = [u'uacs_dpt_id', u'Department', u'uacs_agy_id', u'Agency', \n",
      "         u'uacs_fpap_id', u'Description', u'operdiv', u'operunit', u'uacs_oper_dsc', u'fndsrc', \n",
      "         u'uacs_fundsubcat_dsc', u'uacs_exp_cd', u'Category', u'uacs_sobj_cd', \n",
      "         u'Objective', u'Amount']\n",
      "\n",
      "#select data for analysis\n",
      "auto_approp_data = auto_approp[auto_approp.Amount>0][['Department','Agency','Description','Category','Objective','Amount']]\n",
      "auto_approp_data['NEP'] = 'AUTO'\n",
      "new_approp_data = new_approp[new_approp.Amount>0][['Department','Agency','Description','Category','Objective','Amount']]\n",
      "new_approp_data['NEP'] = 'NEW'\n",
      "all_data = auto_approp_data.append(new_approp_data)\n",
      "#all_data[ [u'NEP',u'Department', u'Agency', u'Description', u'Category', u'Objective', u'Amount']].to_csv('data.csv')\n",
      "#all_data.head()"
     ],
     "language": "python",
     "metadata": {},
     "outputs": []
    }
   ],
   "metadata": {}
  }
 ]
}